{
 "cells": [
  {
   "cell_type": "markdown",
   "id": "22ad1781",
   "metadata": {},
   "source": [
    "# <center>Replay of round-robin study </center>\n",
    "\n",
    "## Overview\n",
    "\n",
    "Demonstration notebook using the data provided in the following study: \"A round-robin approach provides a detailed\n",
    "assessment of biomolecular small-angle scattering data reproducibility and yields consensus curves for\n",
    "benchmarking\" [1].\n",
    "\n",
    "\n",
    "**References:**\n",
    "\n",
    "[1] J. Trewhella et al., *Acta Cryst.* (2022), D**78**, 1315-1336. https://doi.org/10.1107/S2059798322009184"
   ]
  },
  {
   "cell_type": "markdown",
   "id": "95ef333b",
   "metadata": {},
   "source": [
    "# Get started\n",
    "\n",
    "To get started, import the necessary modules and set up the back-end for interactive plotting:"
   ]
  },
  {
   "cell_type": "code",
   "execution_count": null,
   "id": "f0c796ac",
   "metadata": {},
   "outputs": [],
   "source": [
    "from sas_helper import *\n",
    "import numpy as np\n",
    "import requests\n",
    "%matplotlib notebook"
   ]
  },
  {
   "cell_type": "markdown",
   "id": "685aefaa",
   "metadata": {},
   "source": [
    "And define dictionary with all systems and codes for PDB and SASBDB (see below for more information):"
   ]
  },
  {
   "cell_type": "code",
   "execution_count": null,
   "id": "bbe9759a",
   "metadata": {},
   "outputs": [],
   "source": [
    "codes = {}\n",
    "codes['rnasea'] = ('7rsa.pdb', ['SASDPP4', 'SASDPU4', 'SASDP25'])\n",
    "codes['lysozyme'] = ('2vb1.pdb', ['SASDPT4', 'SASDPV4', 'SASDPZ4'])\n",
    "codes['xylanase'] = ('2dfc.pdb', ['SASDPS4', 'SASDPW4', 'SASDP35'])\n",
    "codes['urate'] = ('3l8w.pdb', ['SASDPQ4', 'SASDPX4', 'SASDP45'])\n",
    "codes['xylose'] = ('1mnz.pdb', ['SASDPR4', 'SASDPY4', 'SASDP55'])"
   ]
  },
  {
   "cell_type": "markdown",
   "id": "7134afbe",
   "metadata": {},
   "source": [
    "And choose one of the systems above for the analysis, as well as the number of iterations and conformations to generate (see NOLB modelling below):"
   ]
  },
  {
   "cell_type": "code",
   "execution_count": null,
   "id": "8b78fb15",
   "metadata": {},
   "outputs": [],
   "source": [
    "system = 'rnasea'\n",
    "ITERATIONS = 100\n",
    "MODES = 15"
   ]
  },
  {
   "cell_type": "markdown",
   "id": "e126732f",
   "metadata": {},
   "source": [
    "# Load the PDB files\n",
    "\n",
    "Crystal structures for the five proteins studied in [1] are available in the Protein Data Bank (PDB) [https://www.rcsb.org](https://www.rcsb.org) and their respective codes are:\n",
    "\n",
    "- RNaseA: PDB entry = 7rsa\n",
    "\n",
    "- Lysozyme: PDB entry = 2vb1 \n",
    "\n",
    "- Xylanase: PDB entry = 2dfc\n",
    "\n",
    "- Urate oxidase: PDB entry = 3l8w\n",
    "\n",
    "- Xylose isomerase: PDB entry = 1mnz\n",
    "\n",
    "They can be downloaded easily using the `download_pdb` function:\n",
    "\n",
    "```python\n",
    "download_pdb(link, pdb_file)\n",
    "``` \n",
    "\n",
    "where link = `https://files.rcsb.org/download/entry-code` provides the reference to the PDB file in the database.\n",
    "\n",
    "Let's load the reference structure of the five systems analysed in [1]:"
   ]
  },
  {
   "cell_type": "code",
   "execution_count": null,
   "id": "6054e193",
   "metadata": {},
   "outputs": [],
   "source": [
    "for key in codes.keys():\n",
    "    url = 'https://files.rcsb.org/download/' + codes[key][0]\n",
    "    download_pdb(url, key + '.pdb')"
   ]
  },
  {
   "cell_type": "markdown",
   "id": "97dd465e",
   "metadata": {},
   "source": [
    "# Protein visualisation\n",
    "\n",
    "Use the `show_pdb` command to visualize the loaded structures:\n",
    "\n",
    "```python\n",
    "show_pdb(pdb_file)\n",
    "```\n",
    "\n",
    "Use the interactive 3D visualization of the protein structure to explore the structure. You can rotate the protein, zoom in and out, and explore different parts of the model."
   ]
  },
  {
   "cell_type": "markdown",
   "id": "eb64dbfb",
   "metadata": {},
   "source": [
    "### Irina\n",
    "\n",
    "The PDB models for urate and xylose do not look like those shown in Fig. 1 of the paper. For urate, it looks like chain A of uricase. Do several of these chains need to be combined to give the total structure? How to handle that?\n",
    "\n",
    "The same for xylose. Note also that the code given in the paper (1mnz) retrieves the structure of glucose isomerase. But the entry has xylose isomerase as an entity. How many of those chains compose the real protein? Is it possible to get directly the full system?"
   ]
  },
  {
   "cell_type": "code",
   "execution_count": null,
   "id": "7b133d26",
   "metadata": {
    "scrolled": true
   },
   "outputs": [],
   "source": [
    "pdb_file = system + '.pdb'\n",
    "show_pdb('xylose.pdb')"
   ]
  },
  {
   "cell_type": "markdown",
   "id": "675f6a3e",
   "metadata": {},
   "source": [
    "# Load the SANS/SAXS data\n",
    "\n",
    "Consensus SANS (in both D2O and H2O) and SAXS data used in [1] are available in the SASBDB database. They can be downloaded manually or as shown below. The codes corresponding to each data set are given in [1] and have been defined before in the `codes` dictionary, where they are available as `codes[system key][1][#]`, where # = 0 (SAXS data), 1 (SANS data taken in D2O), or 2 (SANS data taken in H2O)."
   ]
  },
  {
   "cell_type": "markdown",
   "id": "6f202e5c",
   "metadata": {},
   "source": [
    "### Irina\n",
    "The code below should be adapted and moved to sas_helper. py, so that it can be used in the notebook with a simple call similar to the one used for the pdb files, e.g. download_sasbdb_set."
   ]
  },
  {
   "cell_type": "code",
   "execution_count": null,
   "id": "93aede2d",
   "metadata": {},
   "outputs": [],
   "source": [
    "requests.packages.urllib3.disable_warnings()\n",
    "\n",
    "API_BASE = 'https://www.sasbdb.org/rest-api/'\n",
    "URL_BASE = 'https://www.sasbdb.org/media/intensities_files/'\n",
    "\n",
    "# Check codes to use and download SANS/SAXS data curves locally\n",
    "for key in codes.keys():\n",
    "    for code in codes[key][1]:\n",
    "        \n",
    "        try:\n",
    "            \n",
    "            resp = requests.get(API_BASE + 'entry/summary/', params={'code': code},\n",
    "                    headers={\"Accept\": \"application/json\"}, verify=False)\n",
    "            if resp.status_code != 200:\n",
    "                resp.raise_for_status()\n",
    "            else:\n",
    "                json_data =  resp.json() \n",
    "                print(json_data['code'], ':', json_data['experiment']['sample']['name'])\n",
    "                \n",
    "            url = URL_BASE + code + '.dat'\n",
    "            resp = requests.get(url, allow_redirects=True, verify=False)\n",
    "            file = code + '.dat'\n",
    "            open(file, 'wb').write(resp.content)\n",
    "    \n",
    "        except requests.exceptions.HTTPError:\n",
    "            resp.raise_for_status()"
   ]
  },
  {
   "cell_type": "markdown",
   "id": "a641580b",
   "metadata": {},
   "source": [
    "### Irina\n",
    "Function in sas_helper.py to plot the curves from SASBDB?"
   ]
  },
  {
   "cell_type": "code",
   "execution_count": null,
   "id": "e592573e",
   "metadata": {},
   "outputs": [],
   "source": [
    "plt.figure()\n",
    "comments = ['Sample', 'Parent', 'parent', 'template', 'creator', 'range', 'dat',  '#']\n",
    "\n",
    "data = {}\n",
    "for code, label in zip(codes[system][1], ['SAXS', 'SANS D2O', 'SANS H2O']):\n",
    "    data[code] = np.loadtxt(code + '.dat', comments = comments)\n",
    "    plt.plot(data[code][:,0], data[code][:,1], label=label)\n",
    "\n",
    "plt.xlabel('Q/$\\AA^{-1}$')\n",
    "plt.ylabel('(IQ)')\n",
    "plt.yscale('log')\n",
    "plt.xlim((0,0.5))\n",
    "plt.ylim((0.001,1.1))\n",
    "plt.legend()\n",
    "plt.show()   "
   ]
  },
  {
   "cell_type": "markdown",
   "id": "40a4f160",
   "metadata": {},
   "source": [
    "# Calculation of SAXS Profiles\n",
    "\n",
    "To calculate SAXS profiles, you can use either the `foxs` or `Pepsi-SAXS` software. There is no critical difference between them, except for the intensity scale. The  `saxs_profile` function will calculate the SAXS profile for a given PDB file. By default, the function uses the `foxs` software, so the call:\n",
    "\n",
    "```python\n",
    "saxs_profile(pdb_file)\n",
    "```\n",
    "is equivalent to \n",
    "```python\n",
    "saxs_profile(pdb_file, core=\"foxs\")\n",
    "```\n",
    "\n",
    "To calculate the SAXS profile using the `Pepsi-SAXS` software, use the following command:\n",
    "```python\n",
    "saxs_profile(pdb_file, core=\"pepsisaxs\")\n",
    "```\n",
    "\n",
    "Or:\n",
    "```python\n",
    "saxs_profile(pdb_file, core=\"both\")\n",
    "```\n",
    "to calculate the profile with both programs."
   ]
  },
  {
   "cell_type": "markdown",
   "id": "4b8e633f",
   "metadata": {},
   "source": [
    "### Irina\n",
    "I added a save in CSV format into saxs_profile and sans_profile in order to have all the calculated profiles (either with foxs or pepsisaxs) in the same format and facilitate the plot comparing calculation and experiment. Useful or not needed and one can do this as easily using the direct output of foxs and pepsisaxs?\n",
    "\n",
    "I also think that the initial aspect of the plot should be lin/log."
   ]
  },
  {
   "cell_type": "code",
   "execution_count": null,
   "id": "ef46cccc",
   "metadata": {
    "scrolled": false
   },
   "outputs": [],
   "source": [
    "pdb_file = system + '.pdb'\n",
    "saxs_profile(pdb_file, core=\"both\")"
   ]
  },
  {
   "cell_type": "markdown",
   "id": "13d02c30",
   "metadata": {},
   "source": [
    "\n",
    "If instead of a single file we provide a list of them, the profiles of all the systems in the list is calculated and compared in the output plot. For example we can compare the profiles of the five crystal structures in [1]:"
   ]
  },
  {
   "cell_type": "code",
   "execution_count": null,
   "id": "5968749d",
   "metadata": {},
   "outputs": [],
   "source": [
    "saxs_profile(['{}.pdb'.format(key) for key in codes.keys()], core='pepsisaxs')"
   ]
  },
  {
   "cell_type": "markdown",
   "id": "4b587721",
   "metadata": {},
   "source": [
    "# Calculation of SANS Profiles\n",
    "\n",
    "SANS profiles are modeled in a similar way, but in this case we need to indicate the H/D levels of the protein and the buffer, so the functon `sans_profile` has some additional keywords:\n",
    "\n",
    "```python\n",
    "sans_profile(pdb_files, deut_level=[0], d2o_level=[0], exchange=[0])\n",
    "```\n",
    "- **deut_level** stands for Molecule deuteration. It represents the level of deuteration in the molecules under investigation. Deuteration refers to the replacement of hydrogen atoms with deuterium atoms. The **deut_level** value should be in the range from 0 to 1.\n",
    "- **d2o_level** stands for Buffer deuteration. It represents the level of deuteration in the solvent or buffer used in the experiment. The **d2o_level** value should be in the range from 0 to 1.\n",
    "- **exchange** stands for Exchange rate. It represents the rate at which hydrogen atoms in the molecule exchange with deuterium atoms. Higher exchange rates indicate faster exchange between hydrogen and deuterium atoms. The **exchange** value should be in the range from 0 to 1.\n",
    "\n",
    "Default values are: deut_level=0, d2o_level=0, and exchange=0.\n",
    "\n",
    "To explore how different parameter values affect the SANS profiles, you can provide a list of different numbers for each parameter. The `sans_profile` function will calculate all the combinations of those numbers, for example:"
   ]
  },
  {
   "cell_type": "code",
   "execution_count": null,
   "id": "f9c42716",
   "metadata": {},
   "outputs": [],
   "source": [
    "pdb_file = system + '.pdb'\n",
    "sans_profile(pdb_file, deut_level=[0,1], d2o_level=[0, 1], exchange=0)"
   ]
  },
  {
   "cell_type": "markdown",
   "id": "e1d155e6",
   "metadata": {},
   "source": [
    "# Calculated vs experimental profiles\n",
    "\n",
    "Before doing any fitting, let's simply compare how close the profiles of the reference structure are to the experimental data."
   ]
  },
  {
   "cell_type": "markdown",
   "id": "c868c981",
   "metadata": {},
   "source": [
    "### Irina\n",
    "\n",
    "Again, useful to add to sas_helper.py?"
   ]
  },
  {
   "cell_type": "code",
   "execution_count": null,
   "id": "1c2c43c3",
   "metadata": {},
   "outputs": [],
   "source": [
    "plt.figure()\n",
    "data = {}\n",
    "\n",
    "for code, label in zip(codes[system][1], ['SAXS', 'SANS D2O', 'SANS H2O']):\n",
    "    data[code] = np.loadtxt(code + '.dat', comments = comments)\n",
    "    plt.scatter(data[code][:,0], data[code][:,1], label=label)\n",
    "    \n",
    "profiles = ['PepsiSAXS.csv', 'deut0_d2o0_exch0_PepsiSANS.csv', 'deut0_d2o100_exch0_PepsiSANS.csv', 'FoXS.csv', ]\n",
    "labels = ['PepsiSAXS','PepsiSANS-H2O','PepsiSANS-D2O', 'FoXS',]\n",
    "\n",
    "for p, label in zip(profiles, labels):\n",
    "    p = system + '_' + p\n",
    "    calc = np.genfromtxt(p, delimiter=\",\", skip_header=1)\n",
    "    plt.plot(calc[:,1], calc[:,2]/calc[0,2], label=label)\n",
    "\n",
    "plt.xlabel('Q/$\\AA^{-1}$')\n",
    "plt.ylabel('(IQ)')\n",
    "plt.yscale('log')\n",
    "plt.xlim((0,0.5))\n",
    "plt.ylim((0.001,1.1))\n",
    "plt.title(system)\n",
    "plt.legend()\n",
    "plt.show()"
   ]
  },
  {
   "cell_type": "markdown",
   "id": "c314dc80",
   "metadata": {},
   "source": [
    "# Generating different conformations\n",
    "\n",
    "As the proteins are flexible, the single crystal reference structure is not enough to model the different conformations that it can adopt in a solvent. Those can be generated using either RRT (Rapidly-exploring Random Trees) or NOLB (NOn-Linear rigid Block Normal Model Analysis). \n",
    "\n",
    "The RRT modeling is computationally more expensive and requires a good knowledge of the system, as the user must provide a file specifying the flexible residues, so here we will use the second method.\n",
    "\n",
    "To perform NOLB modeling, you need to provide a `pdb_file` and specify the following options:\n",
    "\n",
    "- **num_iter**: This parameter represents the number of iterations for the NOLB algorithm. It determines how many iterations the algorithm will perform to generate the models. Increasing the number of iterations can lead to a more refined sampling of conformational space.\n",
    "\n",
    "- **num_modes**: This parameter specifies the number of modes (or models) to be generated. Each mode represents a distinct conformation.\n",
    "\n",
    "After executing the command, the NOLB algorithm will generate the specified number of modes. You can examine the created nodes (modes) in the output."
   ]
  },
  {
   "cell_type": "markdown",
   "id": "567f10f5",
   "metadata": {},
   "source": [
    "### Irina\n",
    "How can the `flex_file` needed by RRT be generated (semi-)automatically or as easily as possible?\n",
    "\n",
    "Useful to give names of generated files?"
   ]
  },
  {
   "cell_type": "code",
   "execution_count": null,
   "id": "0ffc797f",
   "metadata": {},
   "outputs": [],
   "source": [
    "pdb_file = system + '.pdb'\n",
    "modelpdb_nolb(pdb_file, num_iter=ITERATIONS, num_modes=MODES)"
   ]
  },
  {
   "cell_type": "markdown",
   "id": "8a071e6d",
   "metadata": {},
   "source": [
    "# Fit each of the conformations to the experimental SAXS data\n",
    "\n",
    "This is done using `fitsaxs` and either `foxs` or `pepsisaxs`.\n",
    "\n",
    "If you choose `core=\"foxs\"`, the following options are taken into account:\n",
    "\n",
    "```python\n",
    "fitsaxs(pdb_files, data_file, core=\"foxs\", c1_low=0.99, c1_up=1.05, c2_low=-2, c2_up=4, bg=0, \n",
    "        hyd=False)\n",
    "```\n",
    "- **c1** is the scaling of the atomic radius, which controls the excluded volume of the molecule. The default value is c1 = 1.0. During fitting, a range of values is allowed, with a 1% decrease and up to a 5% increase in the radius (0.99 ≤ c1 ≤ 1.05). The **c1_low** and **c1_up** parameters define this range.\n",
    "- **c2** is used to adjust the difference between the densities of the hydration layer and the bulk water. It controls the density of the water layer around the molecule. The default value is c2 = 0.0. The value of c2 can vary from 0 to 4.0, representing up to four water molecule neighbors for an exposed solute atom. Negative values are also allowed (-2.0 ≤ c2 ≤ 4.0) to account for a lower hydration shell density. The **c2_low** and **c2_up** parameters define this range.\n",
    "- **bg** is an option for background adjustment, which is not used by default.\n",
    "- **hyd** is a boolean flag that indicates whether to explicitly consider hydrogens in the PDB files. The default value is False. If you want to use hydrogens, set `hyd=True`, assuming that all hydrogen atoms are listed in the PDB file.\n",
    "\n",
    "For `core=\"pepsisaxs\"`, the available options are:\n",
    "\n",
    "```python\n",
    "fitsaxs(pdb_files, data_file, core=\"pepsisaxs\", bg=0, hyd=False, scale=1, int_0=1, neg=False,\n",
    "        no_smear=False, hyd_shell=5, conc=1, abs_int=0, bulk_SLD=1e-5)\n",
    "```\n",
    "- **bg** is an option for background adjustment, which is not used by default.\n",
    "- **hyd** is a boolean flag that indicates whether to explicitly consider hydrogens in the PDB files.\n",
    "- **scale** is a scaling factor between the experimental intensity $I_{exp}$ and the theoretical intensity $I_{theory}$.\n",
    "- **int_0** sets $I(0)$ to a constant value.\n",
    "- **neg** is a flag that allows for a negative contrast of the hydration shell upon fitting.\n",
    "- **no_smear** disables the data smearing during fitting.\n",
    "- **hyd_shell** represents the hydration shell contrast as a percentage of the bulk value. The default is 5%. If this parameter is omitted, the contrast will be adjusted automatically during fitting.\n",
    "- **conc** specifies the sample concentration in mg/mL. The default is 1 mg/mL. This parameter is only used when the `abs_int` option is enabled.\n",
    "- **abs_int** enables the fitting of absolute intensity, in +-%.\n",
    "- **bulk_SLD** allows for the explicit specification of the bulk SLD (Scattering Length Density) if different from water."
   ]
  },
  {
   "cell_type": "markdown",
   "id": "d2c2304a",
   "metadata": {},
   "source": [
    "### Irina\n",
    "Why using FoXS gives the same chi^2 for all the pdb files?\n",
    "\n",
    "Why the fits stop at 0.5 AA-1 and do not cover the same range as the exp data?\n",
    "\n",
    "PepsiSAXS gives different chi^2 for each file, but with values rather larger than FoXS? Why?\n",
    "\n",
    "Fitting with PepsiSANS the protein in D2O: Exp curves seem to have an extra background? Why is this not fitted? Or is it not a real background and cannot be fitted? In any case, simulation and experiment do not really match, why?\n",
    "\n",
    "It would be nice to provide directly in the notebook a summary of the main fitted parameters, as well as the names of the generated output files (e.g. *output.txt and .log files for pepsisaxs). "
   ]
  },
  {
   "cell_type": "code",
   "execution_count": null,
   "id": "20d339e8",
   "metadata": {},
   "outputs": [],
   "source": [
    "fitsaxs([system + '_nlb_{}.pdb'.format(i+1) for i in range(MODES)], codes[system][1][0] + '.dat', core=\"foxs\")"
   ]
  },
  {
   "cell_type": "markdown",
   "id": "d94b118a",
   "metadata": {},
   "source": [
    "Using PepsiSAXS:"
   ]
  },
  {
   "cell_type": "code",
   "execution_count": null,
   "id": "87434be0",
   "metadata": {},
   "outputs": [],
   "source": [
    "fitsaxs([system + '_nlb_{}.pdb'.format(i+1) for i in range(MODES)], codes[system][1][0] + '.dat', core=\"pepsisaxs\")"
   ]
  },
  {
   "cell_type": "markdown",
   "id": "4542ef08",
   "metadata": {},
   "source": [
    "# Fit each of the conformations to the experimental SANS data\n",
    "\n",
    "To fit the SANS data we use `fitsans`. The syntax is similar to that of `fitsaxs`, but now we need to indicate the H/D level of the protein (keyword `deut_level`) and the buffer (keyword `d2o_level`). It is also possible to define a few other options:\n",
    "\n",
    "```python\n",
    "fitsans(pdb_files, data_file, deut_level=[0], d2o_level=[0], exchange=[0], bg=0, hyd=False, scale=1,\n",
    "        neg=False, no_smear=False, hyd_shell=5, conc=1, abs_int=0, bulk_SLD=1e-5)\n",
    "```\n",
    "\n",
    "- **deut_level** stands for Molecule deuteration. It represents the level of deuteration in the molecules under investigation. Deuteration refers to the replacement of hydrogen atoms with deuterium atoms. The **deut_level** value should be in the range from 0 to 1.\n",
    "- **d2o_level** stands for Buffer deuteration. It represents the level of deuteration in the solvent or buffer used in the experiment. The **d2o_level** value should be in the range from 0 to 1.\n",
    "- **exchange** stands for Exchange rate. It represents the rate at which hydrogen atoms in the molecule exchange with deuterium atoms. Higher exchange rates indicate faster exchange between hydrogen and deuterium atoms. The **exchange** value should be in the range from 0 to 1.\n",
    "- **bg** is an option for background adjustment, which is not used by default.\n",
    "- **hyd** is a boolean flag that indicates whether to explicitly consider hydrogens in the PDB files.\n",
    "- **scale** is a scaling factor between the experimental intensity $I_{exp}$ and the theoretical intensity $I_{theory}$.\n",
    "- **neg** is a flag that allows for a negative contrast of the hydration shell upon fitting.\n",
    "- **no_smear** disables the data smearing during fitting.\n",
    "- **hyd_shell** represents the hydration shell contrast as a percentage of the bulk value. The default is 5%. If this parameter is omitted, the contrast will be adjusted automatically during fitting.\n",
    "- **conc** specifies the sample concentration in mg/mL. The default is 1 mg/mL. This parameter is only used when the `abs_int` option is enabled.\n",
    "- **abs_int** enables the fitting of absolute intensity, in +-%.\n",
    "- **bulk_SLD** allows for the explicit specification of the bulk SLD (Scattering Length Density) if different from water.\n",
    "\n",
    "We start by fitting the data measured in D2O, so we set *d2o_level = 1*."
   ]
  },
  {
   "cell_type": "code",
   "execution_count": null,
   "id": "5628e435",
   "metadata": {},
   "outputs": [],
   "source": [
    "fitsans([system + '_nlb_{}.pdb'.format(i+1) for i in range(MODES)], codes[system][1][1] + '.dat', \n",
    "        deut_level=0, d2o_level=1, exchange=0, bg=1)"
   ]
  },
  {
   "cell_type": "markdown",
   "id": "2c444aa1",
   "metadata": {},
   "source": [
    "And now we fit the SANS data taken on H2O, by setting *d2o_level = 0*.\n",
    "\n",
    "### Attention:\n",
    "\n",
    "SANS data taken on H2O have worse statistics, so some of the files in SASBDB contain some \"bad\" points with negative errors. These points will generate an error when trying to plot the graph. In this case, edit the file in the server, remove these points and call fitsans again."
   ]
  },
  {
   "cell_type": "markdown",
   "id": "98b3d502",
   "metadata": {},
   "source": [
    "### Irina\n",
    "Add handling of points with negative intensity/error bar into fitsans."
   ]
  },
  {
   "cell_type": "code",
   "execution_count": null,
   "id": "62574a94",
   "metadata": {},
   "outputs": [],
   "source": [
    "fitsans([system + '_nlb_{}.pdb'.format(i+1) for i in range(MODES)], codes[system][1][2] + '.dat', \n",
    "        deut_level=0, d2o_level=0, exchange=0, bg=0)"
   ]
  },
  {
   "cell_type": "markdown",
   "id": "7f4b0119",
   "metadata": {},
   "source": [
    "# Multi-State Modeling with `multimodelfit`\n",
    "\n",
    "In data analysis, dealing with heterogeneous samples is common, where heterogeneity can be both in composition and conformation. For interpreting data collected from such samples, a multi-state model is essential. A multi-state model involves multiple co-existing structural states and parameters, including weights for each state. This is done by `multimodelfit`, which can be used with either SAXS or SANS data. \n",
    "\n",
    "```python\n",
    "multimodelfit(pdb_files, data_file, type=\"saxs\", ensemble_size=10, bestK=1000, chi_perc=0.3, chi=0,\n",
    "              min_weight=0.05, max_q=0.5, c1_low=0.99, c1_up=1.05, c2_low=-0.5, c2_up=2, multimodel=1,\n",
    "              bg=0, nnls=False,\n",
    "              deut_level=[0], d2o_level=[0], exchange=[0], conc=1, abs_int=0, hyd=False, \n",
    "              bulk_SLD=1e-5, no_smear=False, scale=1, neg=False, hyd_shell=5):\n",
    "```    \n",
    "\n",
    "For both SAXS and SANS multi-state modeling, the following parameters are common:\n",
    "\n",
    "- **pdb_files**: A collection of PDB files for multi-model fitting, with a minimum of 2 files.\n",
    "- **data_file**: The data file to fit, typically in .dat format.\n",
    "- **ensemble_size**: The maximum ensemble size, with a default of 10.\n",
    "- **bestK**: Default value is 1000.\n",
    "- **chi_perc**: The chi value percentage threshold for profile similarity, defaulting to 0.3.\n",
    "- **chi**: A chi-based threshold, defaulting to 0.\n",
    "- **min_weight**: The minimum weight threshold for a profile to contribute to the ensemble, defaulting to 0.05.\n",
    "- **max_q**: The maximum q value, with a default of 0.5.\n",
    "- **c1_low**: The minimum c1 value, defaulting to 0.99.\n",
    "- **c1_up**: The maximum c1 value, defaulting to 1.05.\n",
    "- **c2_low**: The minimum c2 value, defaulting to -0.5.\n",
    "- **c2_up**: The maximum c2 value, defaulting to 2.\n",
    "- **multimodel**: Option to read models, with choices 1, 2, or 3. 1: read the first Model only (default); 2: read each model into a separate structure; 3: read all models into a single structure;\n",
    "- **bg**: Background adjustment option, not used by default.\n",
    "- **nnls**: Running Non-negative Least Square on all profiles, defaulting to False.\n",
    "\n",
    "When using `multimodelfit` on SANS data, the following options are also available:\n",
    "\n",
    "- **deut_level** stands for Molecule deuteration. It represents the level of deuteration in the molecules under investigation. Deuteration refers to the replacement of hydrogen atoms with deuterium atoms. The **deut_level** value should be in the range from 0 to 1.\n",
    "- **d2o_level** stands for Buffer deuteration. It represents the level of deuteration in the solvent or buffer used in the experiment. The **d2o_level** value should be in the range from 0 to 1.\n",
    "- **exchange** stands for Exchange rate. It represents the rate at which hydrogen atoms in the molecule exchange with deuterium atoms. Higher exchange rates indicate faster exchange between hydrogen and deuterium atoms. The **exchange** value should be in the range from 0 to 1.\n",
    "- **conc** specifies the sample concentration in mg/mL. The default is 1 mg/mL. This parameter is only used when the `abs_int` option is enabled.\n",
    "- **abs_int** enables the fitting of absolute intensity, in +-%.\n",
    "- **hyd** is a boolean flag that indicates whether to explicitly consider hydrogens in the PDB files.\n",
    "- **bulk_SLD** allows for the explicit specification of the bulk SLD (Scattering Length Density) if different from water.\n",
    "- **no_smear** disables the data smearing during fitting.\n",
    "- **scale** is a scaling factor between the experimental intensity $I_{exp}$ and the theoretical intensity $I_{theory}$.\n",
    "- **neg** is a flag that allows for a negative contrast of the hydration shell upon fitting.\n",
    "- **hyd_shell** represents the hydration shell contrast as a percentage of the bulk value. The default is 5%. If this parameter is omitted, the contrast will be adjusted automatically during fitting."
   ]
  },
  {
   "cell_type": "markdown",
   "id": "a564a308",
   "metadata": {},
   "source": [
    "### Irina\n",
    "Why all the multifits use only 1 PDB?"
   ]
  },
  {
   "cell_type": "code",
   "execution_count": null,
   "id": "94b18349",
   "metadata": {},
   "outputs": [],
   "source": [
    "# Multifit using the SAXS data\n",
    "mf_saxs = multimodelfit([system + '_nlb_{}.pdb'.format(i+1) for i in range(MODES)], codes[system][1][0] + '.dat')"
   ]
  },
  {
   "cell_type": "code",
   "execution_count": null,
   "id": "0d577dbe",
   "metadata": {},
   "outputs": [],
   "source": [
    "#Multifit using the SANS data on D2O\n",
    "mf_sans_d2o = multimodelfit([system + '_nlb_{}.pdb'.format(i+1) for i in range(MODES)], codes[system][1][1] + '.dat', \n",
    "                            type='sans', d2o_level=1)"
   ]
  },
  {
   "cell_type": "code",
   "execution_count": null,
   "id": "5fc3f558",
   "metadata": {},
   "outputs": [],
   "source": [
    "#Multifit using the SANS data on D2O\n",
    "mf_sans_h2o = multimodelfit([system + '_nlb_{}.pdb'.format(i+1) for i in range(MODES)], codes[system][1][2] + '.dat', \n",
    "                            type='sans', d2o_level=0)"
   ]
  },
  {
   "cell_type": "markdown",
   "id": "e3037162",
   "metadata": {},
   "source": [
    "# Multifit with prion example"
   ]
  },
  {
   "cell_type": "code",
   "execution_count": null,
   "id": "6cb9a9ee",
   "metadata": {},
   "outputs": [],
   "source": [
    "modes = modelpdb_flex(\"prion.pdb\", \"prion_linkers.txt\", models=\"sep\")"
   ]
  },
  {
   "cell_type": "code",
   "execution_count": null,
   "id": "033de278",
   "metadata": {},
   "outputs": [],
   "source": [
    "mmf = multimodelfit([\"nodes{}.pdb\".format(i) for i in range(1,101)], \"prion_iq.dat\")"
   ]
  },
  {
   "cell_type": "code",
   "execution_count": null,
   "id": "f690e117",
   "metadata": {},
   "outputs": [],
   "source": [
    "# Then we can have a look on the contributing PDB file(s)\n",
    "string = mmf[\"Contributing PDB file(s)\"][0] #the index is the same as in the table above\n",
    "file_list = [file.strip() for file in string.split(',')]\n",
    "interact(show_pdb, pdb_file=file_list)"
   ]
  }
 ],
 "metadata": {
  "kernelspec": {
   "display_name": "Python 3 (ipykernel)",
   "language": "python",
   "name": "python3"
  },
  "language_info": {
   "codemirror_mode": {
    "name": "ipython",
    "version": 3
   },
   "file_extension": ".py",
   "mimetype": "text/x-python",
   "name": "python",
   "nbconvert_exporter": "python",
   "pygments_lexer": "ipython3",
   "version": "3.10.0"
  },
  "toc": {
   "base_numbering": 1,
   "nav_menu": {},
   "number_sections": true,
   "sideBar": true,
   "skip_h1_title": false,
   "title_cell": "Table of Contents",
   "title_sidebar": "Contents",
   "toc_cell": false,
   "toc_position": {},
   "toc_section_display": true,
   "toc_window_display": false
  }
 },
 "nbformat": 4,
 "nbformat_minor": 5
}
